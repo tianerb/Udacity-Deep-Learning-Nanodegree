{
 "cells": [
  {
   "cell_type": "markdown",
   "metadata": {
    "collapsed": true
   },
   "source": [
    "# Image Classification\n",
    "In this project, you'll classify images from the [CIFAR-10 dataset](https://www.cs.toronto.edu/~kriz/cifar.html).  The dataset consists of airplanes, dogs, cats, and other objects. You'll preprocess the images, then train a convolutional neural network on all the samples. The images need to be normalized and the labels need to be one-hot encoded.  You'll get to apply what you learned and build a convolutional, max pooling, dropout, and fully connected layers.  At the end, you'll get to see your neural network's predictions on the sample images.\n",
    "## Get the Data\n",
    "Run the following cell to download the [CIFAR-10 dataset for python](https://www.cs.toronto.edu/~kriz/cifar-10-python.tar.gz)."
   ]
  },
  {
   "cell_type": "code",
   "execution_count": 1,
   "metadata": {},
   "outputs": [
    {
     "name": "stdout",
     "output_type": "stream",
     "text": [
      "All files found!\n"
     ]
    }
   ],
   "source": [
    "\"\"\"\n",
    "DON'T MODIFY ANYTHING IN THIS CELL THAT IS BELOW THIS LINE\n",
    "\"\"\"\n",
    "from urllib.request import urlretrieve\n",
    "from os.path import isfile, isdir\n",
    "from tqdm import tqdm\n",
    "import problem_unittests as tests\n",
    "import tarfile\n",
    "\n",
    "cifar10_dataset_folder_path = 'cifar-10-batches-py'\n",
    "\n",
    "# Use Floyd's cifar-10 dataset if present\n",
    "floyd_cifar10_location = '/cifar/cifar-10-python.tar.gz'\n",
    "if isfile(floyd_cifar10_location):\n",
    "    tar_gz_path = floyd_cifar10_location\n",
    "else:\n",
    "    tar_gz_path = 'cifar-10-python.tar.gz'\n",
    "\n",
    "class DLProgress(tqdm):\n",
    "    last_block = 0\n",
    "\n",
    "    def hook(self, block_num=1, block_size=1, total_size=None):\n",
    "        self.total = total_size\n",
    "        self.update((block_num - self.last_block) * block_size)\n",
    "        self.last_block = block_num\n",
    "\n",
    "if not isfile(tar_gz_path):\n",
    "    with DLProgress(unit='B', unit_scale=True, miniters=1, desc='CIFAR-10 Dataset') as pbar:\n",
    "        urlretrieve(\n",
    "            'https://www.cs.toronto.edu/~kriz/cifar-10-python.tar.gz',\n",
    "            tar_gz_path,\n",
    "            pbar.hook)\n",
    "\n",
    "if not isdir(cifar10_dataset_folder_path):\n",
    "    with tarfile.open(tar_gz_path) as tar:\n",
    "        tar.extractall()\n",
    "        tar.close()\n",
    "\n",
    "\n",
    "tests.test_folder_path(cifar10_dataset_folder_path)"
   ]
  },
  {
   "cell_type": "markdown",
   "metadata": {},
   "source": [
    "## Explore the Data\n",
    "The dataset is broken into batches to prevent your machine from running out of memory.  The CIFAR-10 dataset consists of 5 batches, named `data_batch_1`, `data_batch_2`, etc.. Each batch contains the labels and images that are one of the following:\n",
    "* airplane\n",
    "* automobile\n",
    "* bird\n",
    "* cat\n",
    "* deer\n",
    "* dog\n",
    "* frog\n",
    "* horse\n",
    "* ship\n",
    "* truck\n",
    "\n",
    "Understanding a dataset is part of making predictions on the data.  Play around with the code cell below by changing the `batch_id` and `sample_id`. The `batch_id` is the id for a batch (1-5). The `sample_id` is the id for a image and label pair in the batch.\n",
    "\n",
    "Ask yourself \"What are all possible labels?\", \"What is the range of values for the image data?\", \"Are the labels in order or random?\".  Answers to questions like these will help you preprocess the data and end up with better predictions."
   ]
  },
  {
   "cell_type": "code",
   "execution_count": 2,
   "metadata": {},
   "outputs": [
    {
     "name": "stdout",
     "output_type": "stream",
     "text": [
      "\n",
      "Stats of batch 5:\n",
      "Samples: 10000\n",
      "Label Counts: {0: 1014, 1: 1014, 2: 952, 3: 1016, 4: 997, 5: 1025, 6: 980, 7: 977, 8: 1003, 9: 1022}\n",
      "First 20 Labels: [1, 8, 5, 1, 5, 7, 4, 3, 8, 2, 7, 2, 0, 1, 5, 9, 6, 2, 0, 8]\n",
      "\n",
      "Example of Image 15:\n",
      "Image - Min Value: 8 Max Value: 236\n",
      "Image - Shape: (32, 32, 3)\n",
      "Label - Label Id: 9 Name: truck\n"
     ]
    },
    {
     "data": {
      "image/png": "[encoded data removed]",
      "text/plain": [
       "<matplotlib.figure.Figure at 0x1a1bf3fc18>"
      ]
     },
     "metadata": {
      "image/png": {
       "height": 250,
       "width": 253
      }
     },
     "output_type": "display_data"
    }
   ],
   "source": [
    "%matplotlib inline\n",
    "%config InlineBackend.figure_format = 'retina'\n",
    "\n",
    "import helper\n",
    "import numpy as np\n",
    "\n",
    "# Explore the dataset\n",
    "batch_id = 5\n",
    "sample_id = 15\n",
    "helper.display_stats(cifar10_dataset_folder_path, batch_id, sample_id)"
   ]
  },
  {
   "cell_type": "markdown",
   "metadata": {},
   "source": [
    "## Implement Preprocess Functions\n",
    "### Normalize\n",
    "In the cell below, implement the `normalize` function to take in image data, `x`, and return it as a normalized Numpy array. The values should be in the range of 0 to 1, inclusive.  The return object should be the same shape as `x`."
   ]
  },
  {
   "cell_type": "code",
   "execution_count": 3,
   "metadata": {},
   "outputs": [
    {
     "name": "stdout",
     "output_type": "stream",
     "text": [
      "Tests Passed\n"
     ]
    }
   ],
   "source": [
    "def normalize(x):\n",
    "    \"\"\"\n",
    "    Normalize a list of sample image data in the range of 0 to 1\n",
    "    : x: List of image data.  The image shape is (32, 32, 3)\n",
    "    : return: Numpy array of normalize data\n",
    "    \"\"\"\n",
    "    # TODO: Implement Function\n",
    "    return x / 255\n",
    "\n",
    "\n",
    "\"\"\"\n",
    "DON'T MODIFY ANYTHING IN THIS CELL THAT IS BELOW THIS LINE\n",
    "\"\"\"\n",
    "tests.test_normalize(normalize)"
   ]
  },
  {
   "cell_type": "markdown",
   "metadata": {},
   "source": [
    "### One-hot encode\n",
    "Just like the previous code cell, you'll be implementing a function for preprocessing.  This time, you'll implement the `one_hot_encode` function. The input, `x`, are a list of labels.  Implement the function to return the list of labels as One-Hot encoded Numpy array.  The possible values for labels are 0 to 9. The one-hot encoding function should return the same encoding for each value between each call to `one_hot_encode`.  Make sure to save the map of encodings outside the function.\n",
    "\n",
    "Hint: Don't reinvent the wheel."
   ]
  },
  {
   "cell_type": "code",
   "execution_count": 4,
   "metadata": {},
   "outputs": [
    {
     "name": "stdout",
     "output_type": "stream",
     "text": [
      "Tests Passed\n"
     ]
    }
   ],
   "source": [
    "def one_hot_encode(x):\n",
    "    \"\"\"\n",
    "    One hot encode a list of sample labels. Return a one-hot encoded vector for each label.\n",
    "    : x: List of sample Labels\n",
    "    : return: Numpy array of one-hot encoded labels\n",
    "    \"\"\"\n",
    "    # TODO: Implement Function\n",
    "#     return (np.array(x)[:, None] == np.arange(10)).astype(np.int)\n",
    "    return np.eye(10)[x]\n",
    "\n",
    "\n",
    "\"\"\"\n",
    "DON'T MODIFY ANYTHING IN THIS CELL THAT IS BELOW THIS LINE\n",
    "\"\"\"\n",
    "tests.test_one_hot_encode(one_hot_encode)"
   ]
  },
  {
   "cell_type": "markdown",
   "metadata": {},
   "source": [
    "### Randomize Data\n",
    "As you saw from exploring the data above, the order of the samples are randomized.  It doesn't hurt to randomize it again, but you don't need to for this dataset."
   ]
  },
  {
   "cell_type": "markdown",
   "metadata": {},
   "source": [
    "## Preprocess all the data and save it\n",
    "Running the code cell below will preprocess all the CIFAR-10 data and save it to file. The code below also uses 10% of the training data for validation."
   ]
  },
  {
   "cell_type": "code",
   "execution_count": 5,
   "metadata": {
    "collapsed": true
   },
   "outputs": [],
   "source": [
    "\"\"\"\n",
    "DON'T MODIFY ANYTHING IN THIS CELL\n",
    "\"\"\"\n",
    "# Preprocess Training, Validation, and Testing Data\n",
    "helper.preprocess_and_save_data(cifar10_dataset_folder_path, normalize, one_hot_encode)"
   ]
  },
  {
   "cell_type": "markdown",
   "metadata": {},
   "source": [
    "# Check Point\n",
    "This is your first checkpoint.  If you ever decide to come back to this notebook or have to restart the notebook, you can start from here.  The preprocessed data has been saved to disk."
   ]
  },
  {
   "cell_type": "code",
   "execution_count": 6,
   "metadata": {
    "collapsed": true
   },
   "outputs": [],
   "source": [
    "\"\"\"\n",
    "DON'T MODIFY ANYTHING IN THIS CELL\n",
    "\"\"\"\n",
    "import pickle\n",
    "import problem_unittests as tests\n",
    "import helper\n",
    "\n",
    "# Load the Preprocessed Validation data\n",
    "valid_features, valid_labels = pickle.load(open('preprocess_validation.p', mode='rb'))"
   ]
  },
  {
   "cell_type": "markdown",
   "metadata": {},
   "source": [
    "## Build the network\n",
    "For the neural network, you'll build each layer into a function.  Most of the code you've seen has been outside of functions. To test your code more thoroughly, we require that you put each layer in a function.  This allows us to give you better feedback and test for simple mistakes using our unittests before you submit your project.\n",
    "\n",
    ">**Note:** If you're finding it hard to dedicate enough time for this course each week, we've provided a small shortcut to this part of the project. In the next couple of problems, you'll have the option to use classes from the [TensorFlow Layers](https://www.tensorflow.org/api_docs/python/tf/layers) or [TensorFlow Layers (contrib)](https://www.tensorflow.org/api_guides/python/contrib.layers) packages to build each layer, except the layers you build in the \"Convolutional and Max Pooling Layer\" section.  TF Layers is similar to Keras's and TFLearn's abstraction to layers, so it's easy to pickup.\n",
    "\n",
    ">However, if you would like to get the most out of this course, try to solve all the problems _without_ using anything from the TF Layers packages. You **can** still use classes from other packages that happen to have the same name as ones you find in TF Layers! For example, instead of using the TF Layers version of the `conv2d` class, [tf.layers.conv2d](https://www.tensorflow.org/api_docs/python/tf/layers/conv2d), you would want to use the TF Neural Network version of `conv2d`, [tf.nn.conv2d](https://www.tensorflow.org/api_docs/python/tf/nn/conv2d). \n",
    "\n",
    "Let's begin!\n",
    "\n",
    "### Input\n",
    "The neural network needs to read the image data, one-hot encoded labels, and dropout keep probability. Implement the following functions\n",
    "* Implement `neural_net_image_input`\n",
    " * Return a [TF Placeholder](https://www.tensorflow.org/api_docs/python/tf/placeholder)\n",
    " * Set the shape using `image_shape` with batch size set to `None`.\n",
    " * Name the TensorFlow placeholder \"x\" using the TensorFlow `name` parameter in the [TF Placeholder](https://www.tensorflow.org/api_docs/python/tf/placeholder).\n",
    "* Implement `neural_net_label_input`\n",
    " * Return a [TF Placeholder](https://www.tensorflow.org/api_docs/python/tf/placeholder)\n",
    " * Set the shape using `n_classes` with batch size set to `None`.\n",
    " * Name the TensorFlow placeholder \"y\" using the TensorFlow `name` parameter in the [TF Placeholder](https://www.tensorflow.org/api_docs/python/tf/placeholder).\n",
    "* Implement `neural_net_keep_prob_input`\n",
    " * Return a [TF Placeholder](https://www.tensorflow.org/api_docs/python/tf/placeholder) for dropout keep probability.\n",
    " * Name the TensorFlow placeholder \"keep_prob\" using the TensorFlow `name` parameter in the [TF Placeholder](https://www.tensorflow.org/api_docs/python/tf/placeholder).\n",
    "\n",
    "These names will be used at the end of the project to load your saved model.\n",
    "\n",
    "Note: `None` for shapes in TensorFlow allow for a dynamic size."
   ]
  },
  {
   "cell_type": "code",
   "execution_count": 7,
   "metadata": {},
   "outputs": [
    {
     "name": "stdout",
     "output_type": "stream",
     "text": [
      "Image Input Tests Passed.\n",
      "Label Input Tests Passed.\n",
      "Keep Prob Tests Passed.\n"
     ]
    }
   ],
   "source": [
    "import tensorflow as tf\n",
    "\n",
    "def neural_net_image_input(image_shape):\n",
    "    \"\"\"\n",
    "    Return a Tensor for a batch of image input\n",
    "    : image_shape: Shape of the images\n",
    "    : return: Tensor for image input.\n",
    "    \"\"\"\n",
    "    # TODO: Implement Function\n",
    "    return tf.placeholder(tf.float32, shape = (None,) + image_shape, name = 'x')\n",
    "\n",
    "\n",
    "def neural_net_label_input(n_classes):\n",
    "    \"\"\"\n",
    "    Return a Tensor for a batch of label input\n",
    "    : n_classes: Number of classes\n",
    "    : return: Tensor for label input.\n",
    "    \"\"\"\n",
    "    # TODO: Implement Function\n",
    "    return tf.placeholder(tf.int32, shape = (None, n_classes), name = 'y')\n",
    "\n",
    "\n",
    "def neural_net_keep_prob_input():\n",
    "    \"\"\"\n",
    "    Return a Tensor for keep probability\n",
    "    : return: Tensor for keep probability.\n",
    "    \"\"\"\n",
    "    # TODO: Implement Function\n",
    "    return tf.placeholder(tf.float32, name = 'keep_prob')\n",
    "\n",
    "\n",
    "\"\"\"\n",
    "DON'T MODIFY ANYTHING IN THIS CELL THAT IS BELOW THIS LINE\n",
    "\"\"\"\n",
    "tf.reset_default_graph()\n",
    "tests.test_nn_image_inputs(neural_net_image_input)\n",
    "tests.test_nn_label_inputs(neural_net_label_input)\n",
    "tests.test_nn_keep_prob_inputs(neural_net_keep_prob_input)"
   ]
  },
  {
   "cell_type": "markdown",
   "metadata": {},
   "source": [
    "### Convolution and Max Pooling Layer\n",
    "Convolution layers have a lot of success with images. For this code cell, you should implement the function `conv2d_maxpool` to apply convolution then max pooling:\n",
    "* Create the weight and bias using `conv_ksize`, `conv_num_outputs` and the shape of `x_tensor`.\n",
    "* Apply a convolution to `x_tensor` using weight and `conv_strides`.\n",
    " * We recommend you use same padding, but you're welcome to use any padding.\n",
    "* Add bias\n",
    "* Add a nonlinear activation to the convolution.\n",
    "* Apply Max Pooling using `pool_ksize` and `pool_strides`.\n",
    " * We recommend you use same padding, but you're welcome to use any padding.\n",
    "\n",
    "**Note:** You **can't** use [TensorFlow Layers](https://www.tensorflow.org/api_docs/python/tf/layers) or [TensorFlow Layers (contrib)](https://www.tensorflow.org/api_guides/python/contrib.layers) for **this** layer, but you can still use TensorFlow's [Neural Network](https://www.tensorflow.org/api_docs/python/tf/nn) package. You may still use the shortcut option for all the **other** layers."
   ]
  },
  {
   "cell_type": "code",
   "execution_count": 8,
   "metadata": {},
   "outputs": [
    {
     "name": "stdout",
     "output_type": "stream",
     "text": [
      "Tests Passed\n"
     ]
    }
   ],
   "source": [
    "def conv2d_maxpool(x_tensor, conv_num_outputs, conv_ksize, conv_strides, pool_ksize, pool_strides):\n",
    "    \"\"\"\n",
    "    Apply convolution then max pooling to x_tensor\n",
    "    :param x_tensor: TensorFlow Tensor\n",
    "    :param conv_num_outputs: Number of outputs for the convolutional layer\n",
    "    :param conv_ksize: kernal size 2-D Tuple for the convolutional layer\n",
    "    :param conv_strides: Stride 2-D Tuple for convolution\n",
    "    :param pool_ksize: kernal size 2-D Tuple for pool\n",
    "    :param pool_strides: Stride 2-D Tuple for pool\n",
    "    : return: A tensor that represents convolution and max pooling of x_tensor\n",
    "    \"\"\"\n",
    "    # TODO: Implement Function\n",
    "    weight = tf.Variable(tf.truncated_normal(list(conv_ksize)+[x_tensor.get_shape().as_list()[-1]]+[conv_num_outputs], stddev=0.1))\n",
    "    bias = tf.Variable(tf.ones(conv_num_outputs)*0.1)\n",
    "    layer = tf.nn.conv2d(x_tensor, weight, strides = (1,)+conv_strides+(1,), padding = 'SAME')\n",
    "    layer = tf.nn.bias_add(layer, bias)\n",
    "    layer = tf.nn.relu(layer)\n",
    "    layer = tf.nn.max_pool(layer, ksize = (1,)+pool_ksize+(1,), strides = (1,)+pool_strides+(1,), padding = 'SAME')\n",
    "    return layer\n",
    "\n",
    "\n",
    "\"\"\"\n",
    "DON'T MODIFY ANYTHING IN THIS CELL THAT IS BELOW THIS LINE\n",
    "\"\"\"\n",
    "tests.test_con_pool(conv2d_maxpool)"
   ]
  },
  {
   "cell_type": "markdown",
   "metadata": {},
   "source": [
    "### Flatten Layer\n",
    "Implement the `flatten` function to change the dimension of `x_tensor` from a 4-D tensor to a 2-D tensor.  The output should be the shape (*Batch Size*, *Flattened Image Size*). Shortcut option: you can use classes from the [TensorFlow Layers](https://www.tensorflow.org/api_docs/python/tf/layers) or [TensorFlow Layers (contrib)](https://www.tensorflow.org/api_guides/python/contrib.layers) packages for this layer. For more of a challenge, only use other TensorFlow packages."
   ]
  },
  {
   "cell_type": "code",
   "execution_count": 9,
   "metadata": {},
   "outputs": [
    {
     "name": "stdout",
     "output_type": "stream",
     "text": [
      "Tests Passed\n"
     ]
    }
   ],
   "source": [
    "from functools import reduce\n",
    "def flatten(x_tensor):\n",
    "    \"\"\"\n",
    "    Flatten x_tensor to (Batch Size, Flattened Image Size)\n",
    "    : x_tensor: A tensor of size (Batch Size, ...), where ... are the image dimensions.\n",
    "    : return: A tensor of size (Batch Size, Flattened Image Size).\n",
    "    \"\"\"\n",
    "    # TODO: Implement Function\n",
    "    flattenedImageSize = reduce(lambda x,y: x*y, x_tensor.get_shape().as_list()[1:])\n",
    "    return tf.reshape(x_tensor, [-1, flattenedImageSize])\n",
    "\n",
    "\n",
    "\"\"\"\n",
    "DON'T MODIFY ANYTHING IN THIS CELL THAT IS BELOW THIS LINE\n",
    "\"\"\"\n",
    "tests.test_flatten(flatten)"
   ]
  },
  {
   "cell_type": "markdown",
   "metadata": {},
   "source": [
    "### Fully-Connected Layer\n",
    "Implement the `fully_conn` function to apply a fully connected layer to `x_tensor` with the shape (*Batch Size*, *num_outputs*). Shortcut option: you can use classes from the [TensorFlow Layers](https://www.tensorflow.org/api_docs/python/tf/layers) or [TensorFlow Layers (contrib)](https://www.tensorflow.org/api_guides/python/contrib.layers) packages for this layer. For more of a challenge, only use other TensorFlow packages."
   ]
  },
  {
   "cell_type": "code",
   "execution_count": 10,
   "metadata": {},
   "outputs": [
    {
     "name": "stdout",
     "output_type": "stream",
     "text": [
      "Tests Passed\n"
     ]
    }
   ],
   "source": [
    "def fully_conn(x_tensor, num_outputs):\n",
    "    \"\"\"\n",
    "    Apply a fully connected layer to x_tensor using weight and bias\n",
    "    : x_tensor: A 2-D tensor where the first dimension is batch size.\n",
    "    : num_outputs: The number of output that the new tensor should be.\n",
    "    : return: A 2-D tensor where the second dimension is num_outputs.\n",
    "    \"\"\"\n",
    "    # TODO: Implement Function\n",
    "    fc_weight = tf.Variable(tf.truncated_normal([x_tensor.get_shape().as_list()[1], num_outputs], stddev=0.1))\n",
    "    fc_bias = tf.Variable(tf.ones(num_outputs)*0.1)\n",
    "    return tf.nn.relu(tf.add(tf.matmul(x_tensor, fc_weight), fc_bias))\n",
    "\n",
    "\n",
    "\"\"\"\n",
    "DON'T MODIFY ANYTHING IN THIS CELL THAT IS BELOW THIS LINE\n",
    "\"\"\"\n",
    "tests.test_fully_conn(fully_conn)"
   ]
  },
  {
   "cell_type": "markdown",
   "metadata": {},
   "source": [
    "### Output Layer\n",
    "Implement the `output` function to apply a fully connected layer to `x_tensor` with the shape (*Batch Size*, *num_outputs*). Shortcut option: you can use classes from the [TensorFlow Layers](https://www.tensorflow.org/api_docs/python/tf/layers) or [TensorFlow Layers (contrib)](https://www.tensorflow.org/api_guides/python/contrib.layers) packages for this layer. For more of a challenge, only use other TensorFlow packages.\n",
    "\n",
    "**Note:** Activation, softmax, or cross entropy should **not** be applied to this."
   ]
  },
  {
   "cell_type": "code",
   "execution_count": 11,
   "metadata": {},
   "outputs": [
    {
     "name": "stdout",
     "output_type": "stream",
     "text": [
      "Tests Passed\n"
     ]
    }
   ],
   "source": [
    "def output(x_tensor, num_outputs):\n",
    "    \"\"\"\n",
    "    Apply a output layer to x_tensor using weight and bias\n",
    "    : x_tensor: A 2-D tensor where the first dimension is batch size.\n",
    "    : num_outputs: The number of output that the new tensor should be.\n",
    "    : return: A 2-D tensor where the second dimension is num_outputs.\n",
    "    \"\"\"\n",
    "    # TODO: Implement Function\n",
    "    out_weight = tf.Variable(tf.truncated_normal([x_tensor.get_shape().as_list()[1], num_outputs], stddev=0.1))\n",
    "    out_bias = tf.Variable(tf.ones(num_outputs)*0.1)\n",
    "    return tf.add(tf.matmul(x_tensor, out_weight), out_bias)\n",
    "\n",
    "\n",
    "\"\"\"\n",
    "DON'T MODIFY ANYTHING IN THIS CELL THAT IS BELOW THIS LINE\n",
    "\"\"\"\n",
    "tests.test_output(output)"
   ]
  },
  {
   "cell_type": "markdown",
   "metadata": {},
   "source": [
    "### Create Convolutional Model\n",
    "Implement the function `conv_net` to create a convolutional neural network model. The function takes in a batch of images, `x`, and outputs logits.  Use the layers you created above to create this model:\n",
    "\n",
    "* Apply 1, 2, or 3 Convolution and Max Pool layers\n",
    "* Apply a Flatten Layer\n",
    "* Apply 1, 2, or 3 Fully Connected Layers\n",
    "* Apply an Output Layer\n",
    "* Return the output\n",
    "* Apply [TensorFlow's Dropout](https://www.tensorflow.org/api_docs/python/tf/nn/dropout) to one or more layers in the model using `keep_prob`. "
   ]
  },
  {
   "cell_type": "code",
   "execution_count": 12,
   "metadata": {},
   "outputs": [
    {
     "name": "stdout",
     "output_type": "stream",
     "text": [
      "Neural Network Built!\n"
     ]
    }
   ],
   "source": [
    "def conv_net(x, keep_prob):\n",
    "    \"\"\"\n",
    "    Create a convolutional neural network model\n",
    "    : x: Placeholder tensor that holds image data.\n",
    "    : keep_prob: Placeholder tensor that hold dropout keep probability.\n",
    "    : return: Tensor that represents logits\n",
    "    \"\"\"\n",
    "    # TODO: Apply 1, 2, or 3 Convolution and Max Pool layers\n",
    "    #    Play around with different number of outputs, kernel size and stride\n",
    "    # Function Definition from Above:\n",
    "    #    conv2d_maxpool(x_tensor, conv_num_outputs, conv_ksize, conv_strides, pool_ksize, pool_strides)\n",
    "    layer = conv2d_maxpool(x, 64, (5, 5), (2, 2), (2, 2), (2, 2))\n",
    "    layer = conv2d_maxpool(layer, 128, (5, 5), (2, 2), (2, 2), (2, 2))\n",
    "    layer = conv2d_maxpool(layer, 256, (5, 5), (2, 2), (2, 2), (2, 2))\n",
    "\n",
    "    # TODO: Apply a Flatten Layer\n",
    "    # Function Definition from Above:\n",
    "    #   flatten(x_tensor)\n",
    "    layer = flatten(layer)\n",
    "    \n",
    "\n",
    "    # TODO: Apply 1, 2, or 3 Fully Connected Layers\n",
    "    #    Play around with different number of outputs\n",
    "    # Function Definition from Above:\n",
    "    #   fully_conn(x_tensor, num_outputs)\n",
    "    layer = fully_conn(layer, 1024)\n",
    "    layer = fully_conn(layer, 512)\n",
    "    layer = fully_conn(layer, 268)\n",
    "    \n",
    "    layer = tf.nn.dropout(layer, keep_prob = keep_prob)\n",
    "    \n",
    "    # TODO: Apply an Output Layer\n",
    "    #    Set this to the number of classes\n",
    "    # Function Definition from Above:\n",
    "    #   output(x_tensor, num_outputs)\n",
    "    logits = output(layer, 10)\n",
    "    \n",
    "    # TODO: return output\n",
    "    return logits\n",
    "\n",
    "\n",
    "\"\"\"\n",
    "DON'T MODIFY ANYTHING IN THIS CELL THAT IS BELOW THIS LINE\n",
    "\"\"\"\n",
    "\n",
    "##############################\n",
    "## Build the Neural Network ##\n",
    "##############################\n",
    "\n",
    "# Remove previous weights, bias, inputs, etc..\n",
    "tf.reset_default_graph()\n",
    "\n",
    "# Inputs\n",
    "x = neural_net_image_input((32, 32, 3))\n",
    "y = neural_net_label_input(10)\n",
    "keep_prob = neural_net_keep_prob_input()\n",
    "\n",
    "# Model\n",
    "logits = conv_net(x, keep_prob)\n",
    "\n",
    "# Name logits Tensor, so that is can be loaded from disk after training\n",
    "logits = tf.identity(logits, name='logits')\n",
    "\n",
    "# Loss and Optimizer\n",
    "cost = tf.reduce_mean(tf.nn.softmax_cross_entropy_with_logits(logits=logits, labels=y))\n",
    "optimizer = tf.train.AdamOptimizer().minimize(cost)\n",
    "\n",
    "# Accuracy\n",
    "correct_pred = tf.equal(tf.argmax(logits, 1), tf.argmax(y, 1))\n",
    "accuracy = tf.reduce_mean(tf.cast(correct_pred, tf.float32), name='accuracy')\n",
    "\n",
    "tests.test_conv_net(conv_net)"
   ]
  },
  {
   "cell_type": "markdown",
   "metadata": {},
   "source": [
    "## Train the Neural Network\n",
    "### Single Optimization\n",
    "Implement the function `train_neural_network` to do a single optimization.  The optimization should use `optimizer` to optimize in `session` with a `feed_dict` of the following:\n",
    "* `x` for image input\n",
    "* `y` for labels\n",
    "* `keep_prob` for keep probability for dropout\n",
    "\n",
    "This function will be called for each batch, so `tf.global_variables_initializer()` has already been called.\n",
    "\n",
    "Note: Nothing needs to be returned. This function is only optimizing the neural network."
   ]
  },
  {
   "cell_type": "code",
   "execution_count": 13,
   "metadata": {},
   "outputs": [
    {
     "name": "stdout",
     "output_type": "stream",
     "text": [
      "Tests Passed\n"
     ]
    }
   ],
   "source": [
    "def train_neural_network(session, optimizer, keep_probability, feature_batch, label_batch):\n",
    "    \"\"\"\n",
    "    Optimize the session on a batch of images and labels\n",
    "    : session: Current TensorFlow session\n",
    "    : optimizer: TensorFlow optimizer function\n",
    "    : keep_probability: keep probability\n",
    "    : feature_batch: Batch of Numpy image data\n",
    "    : label_batch: Batch of Numpy label data\n",
    "    \"\"\"\n",
    "    # TODO: Implement Function\n",
    "    session.run(optimizer, feed_dict = {x: feature_batch, y: label_batch, keep_prob: keep_probability})\n",
    "\n",
    "\n",
    "\"\"\"\n",
    "DON'T MODIFY ANYTHING IN THIS CELL THAT IS BELOW THIS LINE\n",
    "\"\"\"\n",
    "tests.test_train_nn(train_neural_network)"
   ]
  },
  {
   "cell_type": "markdown",
   "metadata": {},
   "source": [
    "### Show Stats\n",
    "Implement the function `print_stats` to print loss and validation accuracy.  Use the global variables `valid_features` and `valid_labels` to calculate validation accuracy.  Use a keep probability of `1.0` to calculate the loss and validation accuracy."
   ]
  },
  {
   "cell_type": "code",
   "execution_count": 14,
   "metadata": {
    "collapsed": true
   },
   "outputs": [],
   "source": [
    "def print_stats(session, feature_batch, label_batch, cost, accuracy):\n",
    "    \"\"\"\n",
    "    Print information about loss and validation accuracy\n",
    "    : session: Current TensorFlow session\n",
    "    : feature_batch: Batch of Numpy image data\n",
    "    : label_batch: Batch of Numpy label data\n",
    "    : cost: TensorFlow cost function\n",
    "    : accuracy: TensorFlow accuracy function\n",
    "    \"\"\"\n",
    "    # TODO: Implement Function\n",
    "    global valid_features\n",
    "    global valid_labels\n",
    "    cost, train_acc = session.run([cost, accuracy], feed_dict = {x: feature_batch, y: label_batch, keep_prob: 1})\n",
    "    valid_acc = session.run(accuracy, feed_dict = {x: valid_features, y: valid_labels, keep_prob: 1})\n",
    "    print('Cost : {:>6.3}, Training Accuracy : {:>6.1%}, Validation Accuracy : {:>6.2%}'.format(cost, train_acc, valid_acc))"
   ]
  },
  {
   "cell_type": "markdown",
   "metadata": {},
   "source": [
    "### Hyperparameters\n",
    "Tune the following parameters:\n",
    "* Set `epochs` to the number of iterations until the network stops learning or start overfitting\n",
    "* Set `batch_size` to the highest number that your machine has memory for.  Most people set them to common sizes of memory:\n",
    " * 64\n",
    " * 128\n",
    " * 256\n",
    " * ...\n",
    "* Set `keep_probability` to the probability of keeping a node using dropout"
   ]
  },
  {
   "cell_type": "code",
   "execution_count": 15,
   "metadata": {
    "collapsed": true
   },
   "outputs": [],
   "source": [
    "# TODO: Tune Parameters\n",
    "epochs = 10\n",
    "batch_size = 256\n",
    "keep_probability = 0.5"
   ]
  },
  {
   "cell_type": "markdown",
   "metadata": {},
   "source": [
    "### Train on a Single CIFAR-10 Batch\n",
    "Instead of training the neural network on all the CIFAR-10 batches of data, let's use a single batch. This should save time while you iterate on the model to get a better accuracy.  Once the final validation accuracy is 50% or greater, run the model on all the data in the next section."
   ]
  },
  {
   "cell_type": "code",
   "execution_count": 16,
   "metadata": {},
   "outputs": [
    {
     "name": "stdout",
     "output_type": "stream",
     "text": [
      "Checking the Training on a Single Batch...\n",
      "Epoch  1, CIFAR-10 Batch 1:  Cost :   2.12, Training Accuracy :  27.5%, Validation Accuracy : 28.60%\n",
      "Epoch  2, CIFAR-10 Batch 1:  Cost :    1.9, Training Accuracy :  45.0%, Validation Accuracy : 31.86%\n",
      "Epoch  3, CIFAR-10 Batch 1:  Cost :   1.62, Training Accuracy :  45.0%, Validation Accuracy : 38.94%\n",
      "Epoch  4, CIFAR-10 Batch 1:  Cost :   1.37, Training Accuracy :  57.5%, Validation Accuracy : 43.40%\n",
      "Epoch  5, CIFAR-10 Batch 1:  Cost :   1.14, Training Accuracy :  62.5%, Validation Accuracy : 43.74%\n",
      "Epoch  6, CIFAR-10 Batch 1:  Cost :  0.962, Training Accuracy :  70.0%, Validation Accuracy : 44.56%\n",
      "Epoch  7, CIFAR-10 Batch 1:  Cost :  0.803, Training Accuracy :  80.0%, Validation Accuracy : 47.56%\n",
      "Epoch  8, CIFAR-10 Batch 1:  Cost :  0.704, Training Accuracy :  82.5%, Validation Accuracy : 47.46%\n",
      "Epoch  9, CIFAR-10 Batch 1:  Cost :  0.705, Training Accuracy :  85.0%, Validation Accuracy : 44.96%\n",
      "Epoch 10, CIFAR-10 Batch 1:  Cost :  0.592, Training Accuracy :  82.5%, Validation Accuracy : 48.34%\n"
     ]
    }
   ],
   "source": [
    "\"\"\"\n",
    "DON'T MODIFY ANYTHING IN THIS CELL\n",
    "\"\"\"\n",
    "print('Checking the Training on a Single Batch...')\n",
    "with tf.Session() as sess:\n",
    "    # Initializing the variables\n",
    "    sess.run(tf.global_variables_initializer())\n",
    "    \n",
    "    # Training cycle\n",
    "    for epoch in range(epochs):\n",
    "        batch_i = 1\n",
    "        for batch_features, batch_labels in helper.load_preprocess_training_batch(batch_i, batch_size):\n",
    "            train_neural_network(sess, optimizer, keep_probability, batch_features, batch_labels)\n",
    "        print('Epoch {:>2}, CIFAR-10 Batch {}:  '.format(epoch + 1, batch_i), end='')\n",
    "        print_stats(sess, batch_features, batch_labels, cost, accuracy)"
   ]
  },
  {
   "cell_type": "markdown",
   "metadata": {},
   "source": [
    "### Fully Train the Model\n",
    "Now that you got a good accuracy with a single CIFAR-10 batch, try it with all five batches."
   ]
  },
  {
   "cell_type": "code",
   "execution_count": 17,
   "metadata": {},
   "outputs": [
    {
     "name": "stdout",
     "output_type": "stream",
     "text": [
      "Training...\n",
      "Epoch  1, CIFAR-10 Batch 1:  Cost :   2.05, Training Accuracy :  35.0%, Validation Accuracy : 25.44%\n",
      "Epoch  1, CIFAR-10 Batch 2:  Cost :   1.83, Training Accuracy :  40.0%, Validation Accuracy : 34.52%\n",
      "Epoch  1, CIFAR-10 Batch 3:  Cost :   1.47, Training Accuracy :  57.5%, Validation Accuracy : 37.60%\n",
      "Epoch  1, CIFAR-10 Batch 4:  Cost :   1.54, Training Accuracy :  37.5%, Validation Accuracy : 40.70%\n",
      "Epoch  1, CIFAR-10 Batch 5:  Cost :   1.56, Training Accuracy :  47.5%, Validation Accuracy : 43.64%\n",
      "Epoch  2, CIFAR-10 Batch 1:  Cost :   1.61, Training Accuracy :  47.5%, Validation Accuracy : 44.72%\n",
      "Epoch  2, CIFAR-10 Batch 2:  Cost :   1.27, Training Accuracy :  50.0%, Validation Accuracy : 43.12%\n",
      "Epoch  2, CIFAR-10 Batch 3:  Cost :   1.03, Training Accuracy :  72.5%, Validation Accuracy : 45.34%\n",
      "Epoch  2, CIFAR-10 Batch 4:  Cost :   1.21, Training Accuracy :  60.0%, Validation Accuracy : 48.62%\n",
      "Epoch  2, CIFAR-10 Batch 5:  Cost :   1.28, Training Accuracy :  57.5%, Validation Accuracy : 47.96%\n",
      "Epoch  3, CIFAR-10 Batch 1:  Cost :   1.39, Training Accuracy :  57.5%, Validation Accuracy : 49.38%\n",
      "Epoch  3, CIFAR-10 Batch 2:  Cost :   1.07, Training Accuracy :  65.0%, Validation Accuracy : 49.84%\n",
      "Epoch  3, CIFAR-10 Batch 3:  Cost :  0.797, Training Accuracy :  70.0%, Validation Accuracy : 47.52%\n",
      "Epoch  3, CIFAR-10 Batch 4:  Cost :   1.04, Training Accuracy :  67.5%, Validation Accuracy : 54.10%\n",
      "Epoch  3, CIFAR-10 Batch 5:  Cost :   1.06, Training Accuracy :  62.5%, Validation Accuracy : 51.60%\n",
      "Epoch  4, CIFAR-10 Batch 1:  Cost :   1.21, Training Accuracy :  60.0%, Validation Accuracy : 52.74%\n",
      "Epoch  4, CIFAR-10 Batch 2:  Cost :  0.795, Training Accuracy :  70.0%, Validation Accuracy : 53.70%\n",
      "Epoch  4, CIFAR-10 Batch 3:  Cost :  0.634, Training Accuracy :  77.5%, Validation Accuracy : 52.68%\n",
      "Epoch  4, CIFAR-10 Batch 4:  Cost :  0.868, Training Accuracy :  67.5%, Validation Accuracy : 54.70%\n",
      "Epoch  4, CIFAR-10 Batch 5:  Cost :  0.908, Training Accuracy :  65.0%, Validation Accuracy : 52.12%\n",
      "Epoch  5, CIFAR-10 Batch 1:  Cost :   0.95, Training Accuracy :  70.0%, Validation Accuracy : 54.90%\n",
      "Epoch  5, CIFAR-10 Batch 2:  Cost :  0.667, Training Accuracy :  72.5%, Validation Accuracy : 53.38%\n",
      "Epoch  5, CIFAR-10 Batch 3:  Cost :  0.504, Training Accuracy :  82.5%, Validation Accuracy : 53.38%\n",
      "Epoch  5, CIFAR-10 Batch 4:  Cost :   0.66, Training Accuracy :  80.0%, Validation Accuracy : 56.66%\n",
      "Epoch  5, CIFAR-10 Batch 5:  Cost :  0.638, Training Accuracy :  85.0%, Validation Accuracy : 57.76%\n",
      "Epoch  6, CIFAR-10 Batch 1:  Cost :  0.729, Training Accuracy :  80.0%, Validation Accuracy : 58.54%\n",
      "Epoch  6, CIFAR-10 Batch 2:  Cost :  0.559, Training Accuracy :  77.5%, Validation Accuracy : 55.36%\n",
      "Epoch  6, CIFAR-10 Batch 3:  Cost :  0.406, Training Accuracy :  90.0%, Validation Accuracy : 56.98%\n",
      "Epoch  6, CIFAR-10 Batch 4:  Cost :  0.525, Training Accuracy :  90.0%, Validation Accuracy : 57.78%\n",
      "Epoch  6, CIFAR-10 Batch 5:  Cost :  0.461, Training Accuracy :  90.0%, Validation Accuracy : 58.98%\n",
      "Epoch  7, CIFAR-10 Batch 1:  Cost :  0.625, Training Accuracy :  80.0%, Validation Accuracy : 58.80%\n",
      "Epoch  7, CIFAR-10 Batch 2:  Cost :  0.515, Training Accuracy :  80.0%, Validation Accuracy : 59.02%\n",
      "Epoch  7, CIFAR-10 Batch 3:  Cost :  0.339, Training Accuracy :  90.0%, Validation Accuracy : 58.08%\n",
      "Epoch  7, CIFAR-10 Batch 4:  Cost :  0.455, Training Accuracy :  82.5%, Validation Accuracy : 57.90%\n",
      "Epoch  7, CIFAR-10 Batch 5:  Cost :  0.379, Training Accuracy :  92.5%, Validation Accuracy : 60.28%\n",
      "Epoch  8, CIFAR-10 Batch 1:  Cost :  0.549, Training Accuracy :  82.5%, Validation Accuracy : 59.48%\n",
      "Epoch  8, CIFAR-10 Batch 2:  Cost :  0.471, Training Accuracy :  87.5%, Validation Accuracy : 58.70%\n",
      "Epoch  8, CIFAR-10 Batch 3:  Cost :   0.25, Training Accuracy :  92.5%, Validation Accuracy : 60.04%\n",
      "Epoch  8, CIFAR-10 Batch 4:  Cost :  0.329, Training Accuracy :  97.5%, Validation Accuracy : 58.90%\n",
      "Epoch  8, CIFAR-10 Batch 5:  Cost :  0.261, Training Accuracy :  97.5%, Validation Accuracy : 59.44%\n",
      "Epoch  9, CIFAR-10 Batch 1:  Cost :  0.526, Training Accuracy :  82.5%, Validation Accuracy : 57.60%\n",
      "Epoch  9, CIFAR-10 Batch 2:  Cost :  0.332, Training Accuracy :  90.0%, Validation Accuracy : 62.58%\n",
      "Epoch  9, CIFAR-10 Batch 3:  Cost :  0.211, Training Accuracy :  97.5%, Validation Accuracy : 60.94%\n",
      "Epoch  9, CIFAR-10 Batch 4:  Cost :  0.215, Training Accuracy :  97.5%, Validation Accuracy : 61.40%\n",
      "Epoch  9, CIFAR-10 Batch 5:  Cost :  0.222, Training Accuracy :  97.5%, Validation Accuracy : 60.06%\n",
      "Epoch 10, CIFAR-10 Batch 1:  Cost :  0.483, Training Accuracy :  85.0%, Validation Accuracy : 57.10%\n",
      "Epoch 10, CIFAR-10 Batch 2:  Cost :  0.296, Training Accuracy :  92.5%, Validation Accuracy : 60.38%\n",
      "Epoch 10, CIFAR-10 Batch 3:  Cost :  0.164, Training Accuracy :  97.5%, Validation Accuracy : 59.02%\n",
      "Epoch 10, CIFAR-10 Batch 4:  Cost :   0.19, Training Accuracy :  97.5%, Validation Accuracy : 59.98%\n",
      "Epoch 10, CIFAR-10 Batch 5:  Cost :  0.175, Training Accuracy : 100.0%, Validation Accuracy : 60.42%\n"
     ]
    }
   ],
   "source": [
    "\"\"\"\n",
    "DON'T MODIFY ANYTHING IN THIS CELL\n",
    "\"\"\"\n",
    "save_model_path = './image_classification'\n",
    "\n",
    "print('Training...')\n",
    "with tf.Session() as sess:\n",
    "    # Initializing the variables\n",
    "    sess.run(tf.global_variables_initializer())\n",
    "    \n",
    "    # Training cycle\n",
    "    for epoch in range(epochs):\n",
    "        # Loop over all batches\n",
    "        n_batches = 5\n",
    "        for batch_i in range(1, n_batches + 1):\n",
    "            for batch_features, batch_labels in helper.load_preprocess_training_batch(batch_i, batch_size):\n",
    "                train_neural_network(sess, optimizer, keep_probability, batch_features, batch_labels)\n",
    "            print('Epoch {:>2}, CIFAR-10 Batch {}:  '.format(epoch + 1, batch_i), end='')\n",
    "            print_stats(sess, batch_features, batch_labels, cost, accuracy)\n",
    "            \n",
    "    # Save Model\n",
    "    saver = tf.train.Saver()\n",
    "    save_path = saver.save(sess, save_model_path)"
   ]
  },
  {
   "cell_type": "markdown",
   "metadata": {},
   "source": [
    "# Checkpoint\n",
    "The model has been saved to disk.\n",
    "## Test Model\n",
    "Test your model against the test dataset.  This will be your final accuracy. You should have an accuracy greater than 50%. If you don't, keep tweaking the model architecture and parameters."
   ]
  },
  {
   "cell_type": "code",
   "execution_count": 18,
   "metadata": {},
   "outputs": [
    {
     "name": "stdout",
     "output_type": "stream",
     "text": [
      "INFO:tensorflow:Restoring parameters from ./image_classification\n",
      "Testing Accuracy: 0.6107421875\n",
      "\n"
     ]
    },
    {
     "data": {
      "image/png": "[encoded data removed]",
      "text/plain": [
       "<matplotlib.figure.Figure at 0x1a1f55e550>"
      ]
     },
     "metadata": {
      "image/png": {
       "height": 319,
       "width": 355
      }
     },
     "output_type": "display_data"
    }
   ],
   "source": [
    "\"\"\"\n",
    "DON'T MODIFY ANYTHING IN THIS CELL\n",
    "\"\"\"\n",
    "%matplotlib inline\n",
    "%config InlineBackend.figure_format = 'retina'\n",
    "\n",
    "import tensorflow as tf\n",
    "import pickle\n",
    "import helper\n",
    "import random\n",
    "\n",
    "# Set batch size if not already set\n",
    "try:\n",
    "    if batch_size:\n",
    "        pass\n",
    "except NameError:\n",
    "    batch_size = 64\n",
    "\n",
    "save_model_path = './image_classification'\n",
    "n_samples = 4\n",
    "top_n_predictions = 3\n",
    "\n",
    "def test_model():\n",
    "    \"\"\"\n",
    "    Test the saved model against the test dataset\n",
    "    \"\"\"\n",
    "\n",
    "    test_features, test_labels = pickle.load(open('preprocess_test.p', mode='rb'))\n",
    "    loaded_graph = tf.Graph()\n",
    "\n",
    "    with tf.Session(graph=loaded_graph) as sess:\n",
    "        # Load model\n",
    "        loader = tf.train.import_meta_graph(save_model_path + '.meta')\n",
    "        loader.restore(sess, save_model_path)\n",
    "\n",
    "        # Get Tensors from loaded model\n",
    "        loaded_x = loaded_graph.get_tensor_by_name('x:0')\n",
    "        loaded_y = loaded_graph.get_tensor_by_name('y:0')\n",
    "        loaded_keep_prob = loaded_graph.get_tensor_by_name('keep_prob:0')\n",
    "        loaded_logits = loaded_graph.get_tensor_by_name('logits:0')\n",
    "        loaded_acc = loaded_graph.get_tensor_by_name('accuracy:0')\n",
    "        \n",
    "        # Get accuracy in batches for memory limitations\n",
    "        test_batch_acc_total = 0\n",
    "        test_batch_count = 0\n",
    "        \n",
    "        for test_feature_batch, test_label_batch in helper.batch_features_labels(test_features, test_labels, batch_size):\n",
    "            test_batch_acc_total += sess.run(\n",
    "                loaded_acc,\n",
    "                feed_dict={loaded_x: test_feature_batch, loaded_y: test_label_batch, loaded_keep_prob: 1.0})\n",
    "            test_batch_count += 1\n",
    "\n",
    "        print('Testing Accuracy: {}\\n'.format(test_batch_acc_total/test_batch_count))\n",
    "\n",
    "        # Print Random Samples\n",
    "        random_test_features, random_test_labels = tuple(zip(*random.sample(list(zip(test_features, test_labels)), n_samples)))\n",
    "        random_test_predictions = sess.run(\n",
    "            tf.nn.top_k(tf.nn.softmax(loaded_logits), top_n_predictions),\n",
    "            feed_dict={loaded_x: random_test_features, loaded_y: random_test_labels, loaded_keep_prob: 1.0})\n",
    "        helper.display_image_predictions(random_test_features, random_test_labels, random_test_predictions)\n",
    "\n",
    "\n",
    "test_model()"
   ]
  },
  {
   "cell_type": "markdown",
   "metadata": {},
   "source": [
    "## Just one question, if you have time to answer!\n",
    "\n",
    "I used truncated_normal with `stddev = 0.1` to initialize weights and get the previous results. But when I used the default `stddev = 1` , I got cost and accuracy like the following:\n",
    "\n",
    ">Epoch 27, CIFAR-10 Batch 1:  Cost :   1.08e+06, Accuracy :     90.00%\n",
    "\n",
    ">Epoch 28, CIFAR-10 Batch 1:  Cost :   1.29e+06, Accuracy :     82.50%\n",
    "\n",
    ">Epoch 29, CIFAR-10 Batch 1:  Cost :   3.63e+06, Accuracy :     82.50%\n",
    "\n",
    ">Epoch 30, CIFAR-10 Batch 1:  Cost :   5.22e+04, Accuracy :     97.50%\n",
    "\n",
    ">Epoch 31, CIFAR-10 Batch 1:  Cost :   1.83e+06, Accuracy :     90.00%\n",
    "\n",
    ">Epoch 32, CIFAR-10 Batch 1:  Cost :   1.32e+06, Accuracy :     90.00%\n",
    "\n",
    "This looks insane and I really don’t know why. **How can the model has such high cost but maintain a 90% accuracy?** I can also continue training the model to get really low cost but then the accuracy would be 10% something (overfitting?). I checked the formulas and I think the cost and accuracy formulas are all correct. By the way, the above model has a 44% accuracy on test set. Do you know why does this happen? \n",
    "## Thank you so much!\n"
   ]
  },
  {
   "cell_type": "markdown",
   "metadata": {},
   "source": [
    "## Follow up on above question\n",
    "After I added the validation accuracy, the above bad result becomes more resonable. Here is my guess of the explanation:\n",
    "* With larger `stddev`, the intialized weights tend to be more opinionated when applying softmax. The cross entropy = -logx, where x is the softmax score at the correct class index, will be either very close to 0 or very close to 1. Thus we will have a lot of very large costs for wrong classfied samples. With all parameters kept the same as the good model, I changed the std to 1.0 and got the following result, which shows that the model really got stuck in some very bad local minimum and can't learn anything.\n",
    "\n",
    ">Epoch  1, CIFAR-10 Batch 1:  Cost : 5.48e+06, Training Accuracy :  22.5%, Validation Accuracy : 20.12%\n",
    "\n",
    ">Epoch  2, CIFAR-10 Batch 1:  Cost : 1.74e+06, Training Accuracy :  32.5%, Validation Accuracy : 19.70%\n",
    "\n",
    ">Epoch  3, CIFAR-10 Batch 1:  Cost : 4.93e+05, Training Accuracy :  25.0%, Validation Accuracy : 16.48%\n",
    "\n",
    ">Epoch  4, CIFAR-10 Batch 1:  Cost : 4.35e+04, Training Accuracy :  15.0%, Validation Accuracy : 11.84%\n",
    "\n",
    ">Epoch  5, CIFAR-10 Batch 1:  Cost : 6.86e+03, Training Accuracy :  17.5%, Validation Accuracy : 10.68%\n",
    "\n",
    ">Epoch  6, CIFAR-10 Batch 1:  Cost : 1.54e+03, Training Accuracy :  10.0%, Validation Accuracy : 10.10%\n",
    "\n",
    ">Epoch  7, CIFAR-10 Batch 1:  Cost : 9.85e+02, Training Accuracy :  10.0%, Validation Accuracy : 10.06%\n",
    "\n",
    ">Epoch  8, CIFAR-10 Batch 1:  Cost : 7.47e+02, Training Accuracy :  10.0%, Validation Accuracy :  9.90%\n",
    "\n",
    ">Epoch  9, CIFAR-10 Batch 1:  Cost : 4.04e+02, Training Accuracy :  10.0%, Validation Accuracy :  9.80%\n",
    "\n",
    ">Epoch 10, CIFAR-10 Batch 1:  Cost : 1.24e+02, Training Accuracy :  10.0%, Validation Accuracy :  9.84%\n",
    "\n",
    ">Epoch 11, CIFAR-10 Batch 1:  Cost :   2.36, Training Accuracy :  10.0%, Validation Accuracy :  9.74%\n",
    "\n",
    ">Epoch 12, CIFAR-10 Batch 1:  Cost :   2.19, Training Accuracy :  10.0%, Validation Accuracy :  9.74%\n",
    "\n",
    ">Epoch 13, CIFAR-10 Batch 1:  Cost :   2.19, Training Accuracy :  10.0%, Validation Accuracy :  9.80%\n",
    "\n",
    ">Epoch 14, CIFAR-10 Batch 1:  Cost :   2.19, Training Accuracy :  10.0%, Validation Accuracy :  9.84%\n",
    "\n",
    ">Epoch 15, CIFAR-10 Batch 1:  Cost :   2.19, Training Accuracy :  10.0%, Validation Accuracy :  9.82%\n",
    "\n",
    ">Epoch 16, CIFAR-10 Batch 1:  Cost :   2.19, Training Accuracy :  17.5%, Validation Accuracy : 10.10%\n",
    "\n",
    ">Epoch 17, CIFAR-10 Batch 1:  Cost :   2.19, Training Accuracy :  17.5%, Validation Accuracy : 10.14%\n",
    "\n",
    ">Epoch 18, CIFAR-10 Batch 1:  Cost :   2.19, Training Accuracy :  17.5%, Validation Accuracy : 10.14%\n",
    "\n",
    "* But with bad initialization stddev=1, it can still learn something if I use a more complex model and change dropout_prob to be 1. (This is exactlly what I did in that previous question.) For example, if I scanned the convnet more carefully with strides=1, I will get the following. But it is super super slow! And even though accuracy on training set can get to 90% as in my previous question, the accuracy on validation is kept less than 50%. So, still a bad idea to use this initialization.\n",
    "\n",
    ">layer = conv2d_maxpool(x, 64, (5, 5), (2, 2), (2, 2), (1, 1))\n",
    "\n",
    ">layer = conv2d_maxpool(layer, 128, (5, 5), (2, 2), (2, 2), (1, 1))\n",
    "\n",
    ">layer = conv2d_maxpool(layer, 256, (5, 5), (1, 1), (2, 2), (1, 1))\n",
    "\n",
    ">Epoch  1, CIFAR-10 Batch 1:  Cost : 1.21e+08, Training Accuracy :  17.5%, Validation Accuracy : 21.58%\n",
    "\n",
    ">Epoch  2, CIFAR-10 Batch 1:  Cost : 6.01e+07, Training Accuracy :  40.0%, Validation Accuracy : 26.14%\n",
    "\n",
    ">Epoch  3, CIFAR-10 Batch 1:  Cost : 3.09e+07, Training Accuracy :  45.0%, Validation Accuracy : 27.76%\n",
    "\n",
    ">Epoch  4, CIFAR-10 Batch 1:  Cost : 1.69e+07, Training Accuracy :  62.5%, Validation Accuracy : 29.96%\n",
    "\n",
    ">Epoch  5, CIFAR-10 Batch 1:  Cost : 2.13e+07, Training Accuracy :  57.5%, Validation Accuracy : 30.90%\n",
    "\n",
    "* So I guess, in a word:\n",
    "\n",
    ">### Initialization is important"
   ]
  },
  {
   "cell_type": "markdown",
   "metadata": {},
   "source": [
    "## Why 50-80% Accuracy?\n",
    "You might be wondering why you can't get an accuracy any higher. First things first, 50% isn't bad for a simple CNN.  Pure guessing would get you 10% accuracy. However, you might notice people are getting scores [well above 80%](http://rodrigob.github.io/are_we_there_yet/build/classification_datasets_results.html#43494641522d3130).  That's because we haven't taught you all there is to know about neural networks. We still need to cover a few more techniques.\n",
    "## Submitting This Project\n",
    "When submitting this project, make sure to run all the cells before saving the notebook.  Save the notebook file as \"dlnd_image_classification.ipynb\" and save it as a HTML file under \"File\" -> \"Download as\".  Include the \"helper.py\" and \"problem_unittests.py\" files in your submission."
   ]
  }
 ],
 "metadata": {
  "kernelspec": {
   "display_name": "Python 3",
   "language": "python",
   "name": "python3"
  },
  "language_info": {
   "codemirror_mode": {
    "name": "ipython",
    "version": 3
   },
   "file_extension": ".py",
   "mimetype": "text/x-python",
   "name": "python",
   "nbconvert_exporter": "python",
   "pygments_lexer": "ipython3",
   "version": "3.6.2"
  }
 },
 "nbformat": 4,
 "nbformat_minor": 1
}
